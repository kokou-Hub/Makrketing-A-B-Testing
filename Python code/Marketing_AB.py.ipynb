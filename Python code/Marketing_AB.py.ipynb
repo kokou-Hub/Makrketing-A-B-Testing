{
 "cells": [
  {
   "cell_type": "code",
   "execution_count": 33,
   "id": "e27b0522-cc13-4b63-a8ec-ede6fef52478",
   "metadata": {},
   "outputs": [
    {
     "name": "stdout",
     "output_type": "stream",
     "text": [
      "<class 'pandas.core.frame.DataFrame'>\n",
      "RangeIndex: 588101 entries, 0 to 588100\n",
      "Data columns (total 7 columns):\n",
      " #   Column         Non-Null Count   Dtype \n",
      "---  ------         --------------   ----- \n",
      " 0   Unnamed: 0     588101 non-null  int64 \n",
      " 1   user id        588101 non-null  int64 \n",
      " 2   test group     588101 non-null  object\n",
      " 3   converted      588101 non-null  bool  \n",
      " 4   total ads      588101 non-null  int64 \n",
      " 5   most ads day   588101 non-null  object\n",
      " 6   most ads hour  588101 non-null  int64 \n",
      "dtypes: bool(1), int64(4), object(2)\n",
      "memory usage: 27.5+ MB\n",
      "None\n"
     ]
    }
   ],
   "source": [
    "import pandas as pd\n",
    "\n",
    "# Load the dataset\n",
    "file_path = 'marketing_AB_RAW.csv'  \n",
    "data = pd.read_csv(file_path)\n",
    "\n",
    "# Inspect the dataset\n",
    "data.head()\n",
    "print(data.info())"
   ]
  },
  {
   "cell_type": "code",
   "execution_count": 35,
   "id": "c8fd31e8-fea9-4fe4-b712-d86b36c8b418",
   "metadata": {},
   "outputs": [
    {
     "name": "stdout",
     "output_type": "stream",
     "text": [
      "Missing values:\n",
      " Unnamed: 0       0\n",
      "user id          0\n",
      "test group       0\n",
      "converted        0\n",
      "total ads        0\n",
      "most ads day     0\n",
      "most ads hour    0\n",
      "dtype: int64\n",
      "Unnamed: 0        int64\n",
      "user id           int64\n",
      "test group       object\n",
      "converted          bool\n",
      "total ads         int64\n",
      "most ads day     object\n",
      "most ads hour     int64\n",
      "dtype: object\n",
      "Data cleaned successfully!\n"
     ]
    }
   ],
   "source": [
    "# Check for missing values\n",
    "missing_values = data.isnull().sum()\n",
    "print(\"Missing values:\\n\", missing_values)\n",
    "\n",
    "# Drop or fill missing values if any\n",
    "data = data.dropna()  # Drop rows with missing values\n",
    "\n",
    "# Check data types and convert if necessary\n",
    "print(data.dtypes)\n",
    "\n",
    "# Drop duplicates if necessary\n",
    "data = data.drop_duplicates()\n",
    "\n",
    "print(\"Data cleaned successfully!\")\n"
   ]
  },
  {
   "cell_type": "code",
   "execution_count": 37,
   "id": "52683a5d-5f3a-4887-9b1d-979d583a6a77",
   "metadata": {},
   "outputs": [
    {
     "name": "stdout",
     "output_type": "stream",
     "text": [
      "Columns after dropping: Index(['user id', 'test group', 'converted', 'total ads', 'most ads day',\n",
      "       'most ads hour'],\n",
      "      dtype='object')\n"
     ]
    }
   ],
   "source": [
    "# Drop the specified columns\n",
    "columns_to_drop = ['Unnamed: 0']\n",
    "data = data.drop(columns=columns_to_drop, errors='ignore')  # `errors='ignore'` ensures it doesn't throw an error if the columns don't exist\n",
    "\n",
    "# Confirm the columns are dropped\n",
    "print(\"Columns after dropping:\", data.columns)\n"
   ]
  },
  {
   "cell_type": "code",
   "execution_count": 39,
   "id": "b95336cf-e6f1-46ee-89f6-1618d898c6c5",
   "metadata": {},
   "outputs": [
    {
     "name": "stdout",
     "output_type": "stream",
     "text": [
      "Total Conversions: 14843\n"
     ]
    }
   ],
   "source": [
    "# Total conversions (count where 'converted' is True)\n",
    "total_conversions = data[data['converted'] == True].shape[0]\n",
    "print(\"Total Conversions:\", total_conversions)"
   ]
  },
  {
   "cell_type": "code",
   "execution_count": 41,
   "id": "98685f2a-f802-4236-b54d-01059c93320b",
   "metadata": {},
   "outputs": [
    {
     "name": "stdout",
     "output_type": "stream",
     "text": [
      "Total Conversions by Ads: 14423\n",
      "Total Conversions by PSA: 420\n"
     ]
    }
   ],
   "source": [
    "# Total conversions by Ads\n",
    "total_conversions_by_ads = data[(data['test group'] == 'ad') & (data['converted'] == True)].shape[0]\n",
    "\n",
    "# Total conversions by PSA\n",
    "total_conversions_by_psa = data[(data['test group'] == 'psa') & (data['converted'] == True)].shape[0]\n",
    "\n",
    "print(\"Total Conversions by Ads:\", total_conversions_by_ads)\n",
    "print(\"Total Conversions by PSA:\", total_conversions_by_psa)\n"
   ]
  },
  {
   "cell_type": "code",
   "execution_count": 71,
   "id": "23925a9b-edb2-46ba-af4c-dff2bca1ea7f",
   "metadata": {},
   "outputs": [
    {
     "name": "stdout",
     "output_type": "stream",
     "text": [
      "Conversion Rate by Ads: 0.03\n",
      "Conversion Rate by PSA: 0.02\n"
     ]
    }
   ],
   "source": [
    "# Calculate total users in Ads and PSA groups\n",
    "ads_users = data[data['test group'] == 'ad'].shape[0]\n",
    "psa_users = data[data['test group'] == 'psa'].shape[0]\n",
    "\n",
    "# Calculate conversion rate by Ads in percentage\n",
    "conversion_rate_by_ads = (total_conversions_by_ads / ads_users) if ads_users > 0 else 0\n",
    "\n",
    "# Calculate conversion rate by PSA in percentage\n",
    "conversion_rate_by_psa = (total_conversions_by_psa / psa_users) if psa_users > 0 else 0\n",
    "\n",
    "# Print conversion rates as percentages\n",
    "print(f\"Conversion Rate by Ads: {conversion_rate_by_ads:.2f}\")\n",
    "print(f\"Conversion Rate by PSA: {conversion_rate_by_psa:.2f}\")\n",
    "\n"
   ]
  },
  {
   "cell_type": "code",
   "execution_count": 131,
   "id": "2d1ccc7d-8255-4a49-9b6a-16fc592055e1",
   "metadata": {},
   "outputs": [
    {
     "name": "stdout",
     "output_type": "stream",
     "text": [
      "Total ads seen by all users: 14597182\n",
      "Total ads seen by Ads group: 14014701\n",
      "Total ads seen by PSA group: 582481\n"
     ]
    }
   ],
   "source": [
    "# Calculate additional metrics\n",
    "total_ads_seen = data['total ads'].sum()  # Total ads seen by all users\n",
    "total_ads_seen_by_ads_group = data[data['test group'] == 'ad']['total ads'].sum()  # Total ads seen by Ads group\n",
    "total_ads_seen_by_psa_group = data[data['test group'] == 'psa']['total ads'].sum()  # Total ads seen by PSA group\n",
    "\n",
    "# Print the results\n",
    "print(f\"Total ads seen by all users: {total_ads_seen}\")\n",
    "print(f\"Total ads seen by Ads group: {total_ads_seen_by_ads_group}\")\n",
    "print(f\"Total ads seen by PSA group: {total_ads_seen_by_psa_group}\")\n"
   ]
  },
  {
   "cell_type": "code",
   "execution_count": 157,
   "id": "91bac941-d840-49a0-81fd-ca64d651ba29",
   "metadata": {},
   "outputs": [
    {
     "name": "stdout",
     "output_type": "stream",
     "text": [
      "PSA Users Count: 23524\n"
     ]
    }
   ],
   "source": [
    "# Correct the filter to match the actual value 'psa'\n",
    "users_by_psa = data[data['test group'] == 'psa']['user id'].nunique()\n",
    "\n",
    "# Recalculate the metrics and print results\n",
    "print(f\"PSA Users Count: {users_by_psa}\")\n",
    "\n"
   ]
  },
  {
   "cell_type": "code",
   "execution_count": 175,
   "id": "ab594e19-26c5-4adb-a7d0-acbe1fc9667e",
   "metadata": {},
   "outputs": [
    {
     "name": "stdout",
     "output_type": "stream",
     "text": [
      "Ad Reach Rate for Ads group: 1.00\n",
      "Ad Reach Rate for PSA group: 1.00\n"
     ]
    }
   ],
   "source": [
    "users_with_ads_ads = data[(data['test group'] == 'ad') & (data['total ads'] > 0)]['user id'].nunique()\n",
    "users_with_ads_psa = data[(data['test group'] == 'psa') & (data['total ads'] > 0)]['user id'].nunique()\n",
    "\n",
    "reach_rate_ads = users_with_ads_ads / users_by_ads if users_by_ads > 0 else 0\n",
    "reach_rate_psa = users_with_ads_psa / users_by_psa if users_by_psa > 0 else 0\n",
    "\n",
    "print(f\"Ad Reach Rate for Ads group: {reach_rate_ads:.2f}\")\n",
    "print(f\"Ad Reach Rate for PSA group: {reach_rate_psa:.2f}\")\n"
   ]
  },
  {
   "cell_type": "code",
   "execution_count": 85,
   "id": "7e03ffbe-17c7-4a78-be59-3f3d5314603b",
   "metadata": {},
   "outputs": [
    {
     "name": "stdout",
     "output_type": "stream",
     "text": [
      "Total Users: 588101\n"
     ]
    }
   ],
   "source": [
    "# Total unique users (using set to identify unique user IDs)\n",
    "total_users = len(set(data['user id']))\n",
    "print(\"Total Users:\", total_users)\n",
    "\n"
   ]
  },
  {
   "cell_type": "code",
   "execution_count": 87,
   "id": "f9da947c-5e85-4ff5-a77b-c2ed2f7276b7",
   "metadata": {},
   "outputs": [
    {
     "name": "stdout",
     "output_type": "stream",
     "text": [
      "Total Users by Ads: 564577\n",
      "Total Users by PSA: 23524\n"
     ]
    }
   ],
   "source": [
    "# Total users in Ads group\n",
    "total_users_by_ads = data[data['test group'] == 'ad'].shape[0]\n",
    "\n",
    "# Total users in PSA group\n",
    "total_users_by_psa = data[data['test group'] == 'psa'].shape[0]\n",
    "\n",
    "print(\"Total Users by Ads:\", total_users_by_ads)\n",
    "print(\"Total Users by PSA:\", total_users_by_psa)\n"
   ]
  },
  {
   "cell_type": "code",
   "execution_count": 89,
   "id": "ae3e8259-e763-431a-9502-f44c6a0ca7d0",
   "metadata": {},
   "outputs": [
    {
     "name": "stdout",
     "output_type": "stream",
     "text": [
      "Most ads seen per Ads user: 2065\n",
      "Most ads seen per PSA user: 907\n"
     ]
    }
   ],
   "source": [
    "# Most ads seen by a single user in the Ads group\n",
    "most_ads_seen_by_ads_user = data[data['test group'] == 'ad']['total ads'].max()\n",
    "print(\"Most ads seen per Ads user:\", most_ads_seen_by_ads_user)\n",
    "\n",
    "# Most ads seen by a single user in the PSA group\n",
    "most_ads_seen_by_psa_user = data[data['test group'] == 'psa']['total ads'].max()\n",
    "print(\"Most ads seen per PSA user:\", most_ads_seen_by_psa_user)\n"
   ]
  },
  {
   "cell_type": "code",
   "execution_count": 95,
   "id": "b9b7dc77-588c-4da1-94b0-882789169340",
   "metadata": {},
   "outputs": [
    {
     "name": "stdout",
     "output_type": "stream",
     "text": [
      "\n",
      "Cleaned dataset saved to the current directory as: cleaned_marketing_data.csv\n",
      "\n",
      "Summary metrics saved to the current directory as: processed_summary_metrics.csv\n"
     ]
    }
   ],
   "source": [
    "# Save the cleaned dataset\n",
    "cleaned_data_file = \"cleaned_marketing_data.csv\"  # Name of the cleaned dataset file\n",
    "data.to_csv(cleaned_data_file, index=False)  # Save the cleaned dataset to CSV\n",
    "print(f\"\\nCleaned dataset saved to the current directory as: {cleaned_data_file}\")\n",
    "\n",
    "# Calculate most ads seen by a single user in Ads and PSA groups\n",
    "most_ads_seen_by_ads_user = data[data['test group'] == 'ad']['total ads'].max()\n",
    "most_ads_seen_by_psa_user = data[data['test group'] == 'psa']['total ads'].max()\n",
    "\n",
    "# Create the summary metrics\n",
    "summary_data = {\n",
    "    'Metric': [\n",
    "        'Total Conversions',\n",
    "        'Total Conversions by Ads',\n",
    "        'Total Conversions by PSA',\n",
    "        'Conversion Rate by Ads (%)',\n",
    "        'Conversion Rate by PSA (%)',\n",
    "        'Engagement Rate by Ads Group (%)',\n",
    "        'Engagement Rate by PSA Group (%)',\n",
    "        'Most ads seen per Ads user',\n",
    "        'Most ads seen per PSA user',\n",
    "        'Total Users',\n",
    "        'Total Users by Ads',\n",
    "        'Total Users by PSA'\n",
    "    ],\n",
    "    'Value': [\n",
    "        total_conversions,\n",
    "        total_conversions_by_ads,\n",
    "        total_conversions_by_psa,\n",
    "        round(conversion_rate_by_ads, 2),\n",
    "        round(conversion_rate_by_psa, 2),\n",
    "        round(engagement_rate_ads, 2),\n",
    "        round(engagement_rate_psa, 2),\n",
    "        most_ads_seen_by_ads_user,\n",
    "        most_ads_seen_by_psa_user,\n",
    "        total_users,\n",
    "        total_users_by_ads,\n",
    "        total_users_by_psa\n",
    "    ]\n",
    "}\n",
    "\n",
    "# Create the DataFrame for summary metrics\n",
    "summary_df = pd.DataFrame(summary_data)\n",
    "\n",
    "# Save the summary metrics to a CSV file\n",
    "summary_file = \"processed_summary_metrics.csv\"  # Name of the summary metrics file\n",
    "summary_df.to_csv(summary_file, index=False)\n",
    "print(f\"\\nSummary metrics saved to the current directory as: {summary_file}\")\n"
   ]
  },
  {
   "cell_type": "code",
   "execution_count": null,
   "id": "69cd71bd-3a21-41f6-82d2-eb6c9f3ff1b3",
   "metadata": {},
   "outputs": [],
   "source": []
  }
 ],
 "metadata": {
  "kernelspec": {
   "display_name": "Python 3 (ipykernel)",
   "language": "python",
   "name": "python3"
  },
  "language_info": {
   "codemirror_mode": {
    "name": "ipython",
    "version": 3
   },
   "file_extension": ".py",
   "mimetype": "text/x-python",
   "name": "python",
   "nbconvert_exporter": "python",
   "pygments_lexer": "ipython3",
   "version": "3.12.7"
  }
 },
 "nbformat": 4,
 "nbformat_minor": 5
}
